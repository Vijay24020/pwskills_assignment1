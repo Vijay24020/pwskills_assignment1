{
 "cells": [
  {
   "cell_type": "markdown",
   "id": "dde124f1-b7b9-4fb4-82d6-27ea518502f2",
   "metadata": {},
   "source": [
    "ANS 1:\n",
    "\n",
    "Class is a blueprint or represents the overall structure of a system.\n",
    "\n",
    "class defines the behaviour/functioning and details of an entity.\n",
    "\n",
    "Now, Object is a real world entity. It has functions and variables of it.\n",
    "\n",
    "EXAMPLE :-"
   ]
  },
  {
   "cell_type": "code",
   "execution_count": 5,
   "id": "48aee2bf-1bff-4846-8fe3-5911a6843459",
   "metadata": {},
   "outputs": [],
   "source": [
    "class student:\n",
    "    def __init__(self, student_id, email_id, name):\n",
    "        self.student_id = student_id\n",
    "        self.email_id = email_id\n",
    "        self.name = name\n",
    "        \n",
    "    def return_student_details(self):\n",
    "        return self.student_id, self.email_id, self.name\n",
    "    "
   ]
  },
  {
   "cell_type": "code",
   "execution_count": 6,
   "id": "7072f6fa-e46a-4cf8-8702-b711e984be6a",
   "metadata": {},
   "outputs": [],
   "source": [
    "ajay = student(123, \"aj@gmail.com\", \"Ajay\")"
   ]
  },
  {
   "cell_type": "code",
   "execution_count": 7,
   "id": "79875693-272d-4cba-9a6c-040a0bfae2e8",
   "metadata": {},
   "outputs": [
    {
     "data": {
      "text/plain": [
       "(123, 'aj@gmail.com', 'Ajay')"
      ]
     },
     "execution_count": 7,
     "metadata": {},
     "output_type": "execute_result"
    }
   ],
   "source": [
    "ajay.return_student_details()"
   ]
  },
  {
   "cell_type": "code",
   "execution_count": 8,
   "id": "afa7dad9-a948-4d54-bce9-589d38ebe67c",
   "metadata": {},
   "outputs": [
    {
     "data": {
      "text/plain": [
       "123"
      ]
     },
     "execution_count": 8,
     "metadata": {},
     "output_type": "execute_result"
    }
   ],
   "source": [
    "ajay.student_id"
   ]
  },
  {
   "cell_type": "markdown",
   "id": "37586f02-2035-4b00-a9a0-a7f72b832a1b",
   "metadata": {},
   "source": [
    "ANS 2:\n",
    "\n",
    "Four pillas of OOPS are:\n",
    "\n",
    "Inheritance\n",
    "Abstraction\n",
    "Polymorphism\n",
    "Encapsulation"
   ]
  },
  {
   "cell_type": "markdown",
   "id": "ab83dae9-dcbf-4cd6-aefe-7149dbcb52e3",
   "metadata": {},
   "source": [
    "\n",
    "\n",
    "\n",
    "\n",
    "ANS 3:\n",
    "\n",
    "__init__() is used as a constructor to create a object.\n",
    "\n",
    "In this all the details of the class is defined which can be used to provide to the objects. \n",
    "\n",
    "EXAMPLE :\n"
   ]
  },
  {
   "cell_type": "code",
   "execution_count": 9,
   "id": "6561edf3-dc80-4a7f-a606-11442d317727",
   "metadata": {},
   "outputs": [],
   "source": [
    "class test:\n",
    "    def __init__(self, test_name):\n",
    "        self.test_name = test_name\n",
    "        \n",
    "    def return_test_name(self):\n",
    "        return self.test_name"
   ]
  },
  {
   "cell_type": "code",
   "execution_count": 10,
   "id": "5361bfbd-721f-41ca-8d00-00667926691d",
   "metadata": {},
   "outputs": [],
   "source": [
    "ankur = test(\"Maths\")"
   ]
  },
  {
   "cell_type": "code",
   "execution_count": 14,
   "id": "5239ee17-1625-4570-90f8-167db12b9190",
   "metadata": {},
   "outputs": [
    {
     "data": {
      "text/plain": [
       "'Maths'"
      ]
     },
     "execution_count": 14,
     "metadata": {},
     "output_type": "execute_result"
    }
   ],
   "source": [
    "ankur.return_test_name()"
   ]
  },
  {
   "cell_type": "markdown",
   "id": "936ffefc-5a05-427f-98a2-12780360d0f7",
   "metadata": {},
   "source": [
    "ANS 4 :\n",
    "\n",
    "self is used for binding the details of an object with the class.\n",
    "\n",
    "EXAMPLE :"
   ]
  },
  {
   "cell_type": "code",
   "execution_count": 15,
   "id": "88ccad68-5466-4a4c-a67a-e48bb26bc2ea",
   "metadata": {},
   "outputs": [],
   "source": [
    "class test:\n",
    "    def __init__(self, test_name):\n",
    "        self.test_name = test_name\n",
    "        \n",
    "    def return_test_name(self):\n",
    "        return self.test_name"
   ]
  },
  {
   "cell_type": "code",
   "execution_count": 16,
   "id": "5c4f73fe-8a8b-47df-bb74-8566367d746f",
   "metadata": {},
   "outputs": [],
   "source": [
    "ankur = test(\"Maths\")"
   ]
  },
  {
   "cell_type": "code",
   "execution_count": 18,
   "id": "bd7df898-7c32-43cb-b5b2-f69a618d9f01",
   "metadata": {},
   "outputs": [
    {
     "data": {
      "text/plain": [
       "'Maths'"
      ]
     },
     "execution_count": 18,
     "metadata": {},
     "output_type": "execute_result"
    }
   ],
   "source": [
    "ankur.test_name"
   ]
  },
  {
   "cell_type": "markdown",
   "id": "0fb51afa-46ec-4018-ba84-52cec46afcf0",
   "metadata": {},
   "source": [
    "ANS 4:\n",
    "\n",
    "Inheritance is a pillar of OOPs that is used to provide the reusability of code int the system.\n",
    "\n",
    "There are 5 types of inheritance :\n",
    "1. Single Level inheritance\n",
    "2. Multilevel inheritance\n",
    "3. Multiple Inheritance\n",
    "4. Hybrid Inheritance\n",
    "5. Heirarchical Inheritance"
   ]
  },
  {
   "cell_type": "markdown",
   "id": "63eef4f1-b13c-4744-8a19-15945bcc9ae2",
   "metadata": {},
   "source": [
    "1. Single Level Inheritance"
   ]
  },
  {
   "cell_type": "code",
   "execution_count": 2,
   "id": "b1b1c31f-6f17-49d5-9b00-ad325476846b",
   "metadata": {},
   "outputs": [
    {
     "name": "stdout",
     "output_type": "stream",
     "text": [
      "This is Parent's Class function\n",
      "This is Child's Class function\n"
     ]
    }
   ],
   "source": [
    "class Parent:\n",
    "    def fun1(self):\n",
    "        print(\"This is Parent's Class function\")\n",
    "        \n",
    "class Child(Parent):\n",
    "    def fun2(self):\n",
    "        print(\"This is Child's Class function\")\n",
    "        \n",
    "\n",
    "Object = Child()\n",
    "Object.fun1()\n",
    "Object.fun2()"
   ]
  },
  {
   "cell_type": "markdown",
   "id": "3781aa97-5279-421c-907e-064093a72ad8",
   "metadata": {},
   "source": [
    "2. Multiple Inheritance"
   ]
  },
  {
   "cell_type": "code",
   "execution_count": 3,
   "id": "871eafad-32a4-4c76-b187-1488e84ba75c",
   "metadata": {},
   "outputs": [],
   "source": [
    "class Mother:\n",
    "    mother_name = \"\"\n",
    "    def mother(self):\n",
    "        print(self.mother_name)"
   ]
  },
  {
   "cell_type": "code",
   "execution_count": 4,
   "id": "1814fe1f-97c9-42d4-8da0-0b3a7b8829c8",
   "metadata": {},
   "outputs": [],
   "source": [
    "class Father:\n",
    "    father_name = \"\"\n",
    "    def father(self):\n",
    "        print(self.father_name)"
   ]
  },
  {
   "cell_type": "code",
   "execution_count": 5,
   "id": "596ce0e0-917e-42b6-b8c1-4a2b6a828dd9",
   "metadata": {},
   "outputs": [
    {
     "name": "stdout",
     "output_type": "stream",
     "text": [
      "Father : Arjun\n",
      "Mother : Dimple\n"
     ]
    }
   ],
   "source": [
    "class Son(Mother, Father):\n",
    "    def parents(self):\n",
    "        print(\"Father :\", self.father_name)\n",
    "        print(\"Mother :\", self.mother_name)\n",
    "        \n",
    "s1 = Son()\n",
    "s1.father_name = \"Arjun\"\n",
    "s1.mother_name = \"Dimple\"\n",
    "s1.parents()"
   ]
  },
  {
   "cell_type": "markdown",
   "id": "c6c82247-fea1-463b-80a3-ecac61c0b40b",
   "metadata": {},
   "source": [
    "3. Multilevel Inheritance"
   ]
  },
  {
   "cell_type": "code",
   "execution_count": 24,
   "id": "65176fc3-e34e-4aee-97ee-ca01c30cb2cd",
   "metadata": {},
   "outputs": [],
   "source": [
    "class Grandfather:\n",
    "    def __init__(self, grandfathername):\n",
    "        self.grandfathername = grandfathername\n",
    "        "
   ]
  },
  {
   "cell_type": "code",
   "execution_count": 25,
   "id": "aa77da7b-8157-41f7-841f-9149ff445ee7",
   "metadata": {},
   "outputs": [],
   "source": [
    "class Father(Grandfather):\n",
    "    def __init__(self, fathername, grandfathername):\n",
    "        self.fathername = fathername\n",
    "        \n",
    "        Grandfather.__init__(self, grandfathername)"
   ]
  },
  {
   "cell_type": "code",
   "execution_count": 26,
   "id": "10ea4358-b724-4387-a0f4-60d1aab70617",
   "metadata": {},
   "outputs": [
    {
     "name": "stdout",
     "output_type": "stream",
     "text": [
      "RamChandra\n",
      "Grandfathername :  RamChandra\n",
      "Fathername :  Arjun\n",
      "Sonname :  Vijay\n"
     ]
    }
   ],
   "source": [
    "class Son(Father):\n",
    "    def __init__(self, sonname, fathername, grandfathername):\n",
    "        self.sonname = sonname\n",
    "        \n",
    "        Father.__init__(self, fathername, grandfathername)\n",
    "        \n",
    "    def print_name(self):\n",
    "         print(\"Grandfathername : \", self.grandfathername)\n",
    "         print(\"Fathername : \", self.fathername)\n",
    "         print(\"Sonname : \", self.sonname)\n",
    "            \n",
    "\n",
    "s1 = Son(\"Vijay\", \"Arjun\", \"RamChandra\")\n",
    "print(s1.grandfathername)\n",
    "s1.print_name()"
   ]
  },
  {
   "cell_type": "markdown",
   "id": "977e2092-7fe9-4438-bf95-a969b56ced5b",
   "metadata": {},
   "source": [
    "4. Heirchical Inheritance"
   ]
  },
  {
   "cell_type": "code",
   "execution_count": 29,
   "id": "c842b20e-e124-4cdf-9576-9e5e223227b9",
   "metadata": {},
   "outputs": [
    {
     "name": "stdout",
     "output_type": "stream",
     "text": [
      "This is Parent's class\n",
      "This is Parent's class\n",
      "This is Parent's class\n",
      "This is Child3's class\n"
     ]
    }
   ],
   "source": [
    "class Parent:\n",
    "    def fun1(self):\n",
    "        print(\"This is Parent's class\")\n",
    "        \n",
    "class child1(Parent):\n",
    "    def fun2(self):\n",
    "        print(\"This is Child1's class\")\n",
    "        \n",
    "class child2(Parent):\n",
    "    def fun3(Parent):\n",
    "        print(\"This is Child2's class\")\n",
    "        \n",
    "class child3(Parent):\n",
    "    def fun4(self):\n",
    "        print(\"This is Child3's class\")\n",
    "        \n",
    "        \n",
    "c1 = child1()\n",
    "c2 = child2()\n",
    "c3 = child3()\n",
    "c1.fun1()\n",
    "c2.fun1()\n",
    "c3.fun1()\n",
    "c3.fun4()"
   ]
  },
  {
   "cell_type": "markdown",
   "id": "edfd9b65-b9d4-4825-91ea-bee62e70409b",
   "metadata": {},
   "source": [
    "5. Hybrid Inheritance"
   ]
  },
  {
   "cell_type": "code",
   "execution_count": 30,
   "id": "3adb0909-20e6-42b1-9643-1db0bab4b326",
   "metadata": {},
   "outputs": [
    {
     "name": "stdout",
     "output_type": "stream",
     "text": [
      "This function is in school.\n",
      "This function is in student 1. \n"
     ]
    }
   ],
   "source": [
    "class School:\n",
    "    def func1(self):\n",
    "        print(\"This function is in school.\")\n",
    " \n",
    " \n",
    "class Student1(School):\n",
    "    def func2(self):\n",
    "        print(\"This function is in student 1. \")\n",
    " \n",
    " \n",
    "class Student2(School):\n",
    "    def func3(self):\n",
    "        print(\"This function is in student 2.\")\n",
    " \n",
    " \n",
    "class Student3(Student1, School):\n",
    "    def func4(self):\n",
    "        print(\"This function is in student 3.\")\n",
    " \n",
    " \n",
    "# Driver's code\n",
    "object = Student3()\n",
    "object.func1()\n",
    "object.func2()"
   ]
  },
  {
   "cell_type": "code",
   "execution_count": null,
   "id": "1f818c36-1f25-4e12-91a9-7271034b7b33",
   "metadata": {},
   "outputs": [],
   "source": []
  }
 ],
 "metadata": {
  "kernelspec": {
   "display_name": "Python 3 (ipykernel)",
   "language": "python",
   "name": "python3"
  },
  "language_info": {
   "codemirror_mode": {
    "name": "ipython",
    "version": 3
   },
   "file_extension": ".py",
   "mimetype": "text/x-python",
   "name": "python",
   "nbconvert_exporter": "python",
   "pygments_lexer": "ipython3",
   "version": "3.10.6"
  }
 },
 "nbformat": 4,
 "nbformat_minor": 5
}
