{
 "cells": [
  {
   "cell_type": "code",
   "execution_count": 1,
   "id": "8f34a0fc-414c-494a-a078-37fc5d47a2f2",
   "metadata": {},
   "outputs": [],
   "source": [
    "d = {}"
   ]
  },
  {
   "cell_type": "code",
   "execution_count": 2,
   "id": "8d99cb60-b96e-4922-bcc9-043c77023d1f",
   "metadata": {},
   "outputs": [
    {
     "data": {
      "text/plain": [
       "dict"
      ]
     },
     "execution_count": 2,
     "metadata": {},
     "output_type": "execute_result"
    }
   ],
   "source": [
    "type(d)"
   ]
  },
  {
   "cell_type": "code",
   "execution_count": 3,
   "id": "3ebe1e92-fd53-4957-a791-7ca3700a102e",
   "metadata": {},
   "outputs": [
    {
     "ename": "SyntaxError",
     "evalue": "unterminated string literal (detected at line 1) (3316723469.py, line 1)",
     "output_type": "error",
     "traceback": [
      "\u001b[0;36m  Cell \u001b[0;32mIn [3], line 1\u001b[0;36m\u001b[0m\n\u001b[0;31m    d1 = {\"name\" : \"vijay}\u001b[0m\n\u001b[0m                   ^\u001b[0m\n\u001b[0;31mSyntaxError\u001b[0m\u001b[0;31m:\u001b[0m unterminated string literal (detected at line 1)\n"
     ]
    }
   ],
   "source": [
    "d1 = {\"name\" : \"vijay}"
   ]
  },
  {
   "cell_type": "code",
   "execution_count": 4,
   "id": "cbc9cf5e-d021-461c-8aa4-8d85b937a903",
   "metadata": {},
   "outputs": [],
   "source": [
    "d1 = {'name' : 'vijay' , 'phone' : '1234' , 'mail_id' : \"mail@gmail.com\"}"
   ]
  },
  {
   "cell_type": "code",
   "execution_count": 5,
   "id": "74211f2a-69d3-434c-93ae-6e0875ef8ff4",
   "metadata": {},
   "outputs": [],
   "source": [
    "pwskills = {'number' : [1,2,3,4] , \"launch_date\" : (14, 21, 28) , 'course_timings' : {'web_dev' : 4 , 'data_science' : 8 , 'java with dsa and system design' : 5} }"
   ]
  },
  {
   "cell_type": "code",
   "execution_count": 6,
   "id": "4887b85d-fd90-42ab-a94c-834abf0df632",
   "metadata": {},
   "outputs": [
    {
     "data": {
      "text/plain": [
       "4"
      ]
     },
     "execution_count": 6,
     "metadata": {},
     "output_type": "execute_result"
    }
   ],
   "source": [
    "pwskills['course_timings']['web_dev']"
   ]
  },
  {
   "cell_type": "code",
   "execution_count": 1,
   "id": "779615a0-d38b-4006-abb7-deb80ebd4dc7",
   "metadata": {},
   "outputs": [],
   "source": [
    "d6 = {'Data Science' : ['Hyder' , 'Anurag' , 'Krish' , 'Sudhanshu'] , 'Web' : ['Hitesh' , 'Sanket' , 'Anurag'] , 'Java with Dsa and System Design' : ['Navin' , 'Manvi' , 'Hyder' , 'Priya']}"
   ]
  },
  {
   "cell_type": "code",
   "execution_count": 3,
   "id": "13fbc3b6-10ca-4a22-9785-4ff5844c9869",
   "metadata": {},
   "outputs": [
    {
     "data": {
      "text/plain": [
       "['Hitesh', 'Sanket', 'Anurag']"
      ]
     },
     "execution_count": 3,
     "metadata": {},
     "output_type": "execute_result"
    }
   ],
   "source": [
    "d6['Web']"
   ]
  },
  {
   "cell_type": "code",
   "execution_count": 4,
   "id": "0275d28e-23cb-46fe-8265-82b7bb05e9fd",
   "metadata": {},
   "outputs": [],
   "source": [
    "d6['Web'] = {'Hitesh' : 7 , 'Sanket' : 8 , 'Anurag' : 4}"
   ]
  },
  {
   "cell_type": "code",
   "execution_count": 5,
   "id": "2911f6d9-bad5-48a1-8fd3-72451e6f43e4",
   "metadata": {},
   "outputs": [
    {
     "data": {
      "text/plain": [
       "7"
      ]
     },
     "execution_count": 5,
     "metadata": {},
     "output_type": "execute_result"
    }
   ],
   "source": [
    "d6['Web']['Hitesh']"
   ]
  },
  {
   "cell_type": "code",
   "execution_count": 6,
   "id": "833ebdf2-4f11-4ced-8c29-b463031873ff",
   "metadata": {},
   "outputs": [
    {
     "ename": "SyntaxError",
     "evalue": "invalid syntax (2941410213.py, line 1)",
     "output_type": "error",
     "traceback": [
      "\u001b[0;36m  Cell \u001b[0;32mIn [6], line 1\u001b[0;36m\u001b[0m\n\u001b[0;31m    d6.\u001b[0m\n\u001b[0m       ^\u001b[0m\n\u001b[0;31mSyntaxError\u001b[0m\u001b[0;31m:\u001b[0m invalid syntax\n"
     ]
    }
   ],
   "source": [
    "d6."
   ]
  },
  {
   "cell_type": "code",
   "execution_count": 7,
   "id": "202530d2-1aa8-42b5-9422-b5ed29a9a3c3",
   "metadata": {},
   "outputs": [],
   "source": [
    "del d6['Web']"
   ]
  },
  {
   "cell_type": "code",
   "execution_count": 8,
   "id": "7480f253-5ddf-40b2-b43e-30d861845afa",
   "metadata": {},
   "outputs": [
    {
     "data": {
      "text/plain": [
       "{'Data Science': ['Hyder', 'Anurag', 'Krish', 'Sudhanshu'],\n",
       " 'Java with Dsa and System Design': ['Navin', 'Manvi', 'Hyder', 'Priya']}"
      ]
     },
     "execution_count": 8,
     "metadata": {},
     "output_type": "execute_result"
    }
   ],
   "source": [
    "d6"
   ]
  },
  {
   "cell_type": "code",
   "execution_count": 9,
   "id": "453cf979-c043-4709-a4ee-cfe3d1ed606f",
   "metadata": {},
   "outputs": [
    {
     "data": {
      "text/plain": [
       "['Data Science', 'Java with Dsa and System Design']"
      ]
     },
     "execution_count": 9,
     "metadata": {},
     "output_type": "execute_result"
    }
   ],
   "source": [
    "list(d6)"
   ]
  },
  {
   "cell_type": "code",
   "execution_count": 10,
   "id": "5f2e82ed-5aea-40ed-a4fa-92d44898a030",
   "metadata": {},
   "outputs": [
    {
     "data": {
      "text/plain": [
       "[('Data Science', ['Hyder', 'Anurag', 'Krish', 'Sudhanshu']),\n",
       " ('Java with Dsa and System Design', ['Navin', 'Manvi', 'Hyder', 'Priya'])]"
      ]
     },
     "execution_count": 10,
     "metadata": {},
     "output_type": "execute_result"
    }
   ],
   "source": [
    "list(d6.items())"
   ]
  },
  {
   "cell_type": "code",
   "execution_count": 11,
   "id": "b2414b58-974d-43f8-a7e2-1c6f66d799de",
   "metadata": {},
   "outputs": [
    {
     "data": {
      "text/plain": [
       "['Data Science', 'Java with Dsa and System Design']"
      ]
     },
     "execution_count": 11,
     "metadata": {},
     "output_type": "execute_result"
    }
   ],
   "source": [
    "list(d6.keys())"
   ]
  },
  {
   "cell_type": "code",
   "execution_count": 12,
   "id": "1e41ddba-76db-4962-b816-8cf94c1db7ac",
   "metadata": {},
   "outputs": [
    {
     "data": {
      "text/plain": [
       "[['Hyder', 'Anurag', 'Krish', 'Sudhanshu'],\n",
       " ['Navin', 'Manvi', 'Hyder', 'Priya']]"
      ]
     },
     "execution_count": 12,
     "metadata": {},
     "output_type": "execute_result"
    }
   ],
   "source": [
    "list(d6.values())"
   ]
  },
  {
   "cell_type": "code",
   "execution_count": 4,
   "id": "3c1c7467-14a7-4f4f-81ae-3e877d4d640d",
   "metadata": {},
   "outputs": [
    {
     "data": {
      "text/plain": [
       "' \\n\\nCONDITIONAL STATEMENTS '"
      ]
     },
     "execution_count": 4,
     "metadata": {},
     "output_type": "execute_result"
    }
   ],
   "source": [
    "''' \n",
    "CONDITIONAL STATEMENTS '''"
   ]
  },
  {
   "cell_type": "code",
   "execution_count": 3,
   "id": "4b1b5eb1-8204-4513-a1d7-d75e1293ee30",
   "metadata": {},
   "outputs": [
    {
     "name": "stdin",
     "output_type": "stream",
     "text": [
      "Enter your marks :  10\n"
     ]
    },
    {
     "name": "stdout",
     "output_type": "stream",
     "text": [
      "you will be a part of A3 Batch\n"
     ]
    }
   ],
   "source": [
    "marks = int(input('Enter your marks : '))\n",
    "\n",
    "if marks >= 80 :\n",
    "    print('You will be a part of A0 Batch')\n",
    "elif marks >= 60 and marks < 80 :\n",
    "    print('You will be a part of A1 Batch')\n",
    "else :\n",
    "    print('you will be a part of A3 Batch')"
   ]
  },
  {
   "cell_type": "code",
   "execution_count": 6,
   "id": "c0d94bd1-faf9-4a55-bbfe-bc1b69da2715",
   "metadata": {},
   "outputs": [
    {
     "name": "stdin",
     "output_type": "stream",
     "text": [
      "Enter the price of the item 1500\n"
     ]
    },
    {
     "name": "stdout",
     "output_type": "stream",
     "text": [
      "I will not purchase\n"
     ]
    }
   ],
   "source": [
    "price = int(input('Enter the price of the item'))\n",
    "\n",
    "if price > 1000 :\n",
    "    print('I will not purchase')\n",
    "else :\n",
    "    print('I will purchase')"
   ]
  },
  {
   "cell_type": "code",
   "execution_count": 7,
   "id": "dcdde1a4-d01a-4f71-93b9-f81b7e9ef5c6",
   "metadata": {},
   "outputs": [],
   "source": [
    "l = [1, 2, 6, 8]"
   ]
  },
  {
   "cell_type": "code",
   "execution_count": 12,
   "id": "0f7dadee-0b3b-4736-8ff4-084eb0f2e2a7",
   "metadata": {},
   "outputs": [
    {
     "name": "stdout",
     "output_type": "stream",
     "text": [
      "[2, 3, 7, 9]\n"
     ]
    }
   ],
   "source": [
    "l1 = []\n",
    "for i in l :\n",
    "    l1.append(i + 1)\n",
    "\n",
    "print(l1)\n",
    "    "
   ]
  },
  {
   "cell_type": "code",
   "execution_count": 13,
   "id": "4d030762-56d7-4172-be5b-5a408014e217",
   "metadata": {},
   "outputs": [],
   "source": [
    "li = ['Sudhanshu' , 'Hitesh' , 'Krish' , 'Hyder']"
   ]
  },
  {
   "cell_type": "code",
   "execution_count": 15,
   "id": "2dc8cecb-2302-4576-b3d7-5fa9084147aa",
   "metadata": {},
   "outputs": [
    {
     "name": "stdout",
     "output_type": "stream",
     "text": [
      "['SUDHANSHU', 'HITESH', 'KRISH', 'HYDER']\n"
     ]
    }
   ],
   "source": [
    "l2 = []\n",
    "\n",
    "for i in li:\n",
    "    l2.append(i.upper())\n",
    "    \n",
    "print(l2)"
   ]
  },
  {
   "cell_type": "code",
   "execution_count": 16,
   "id": "dfa2fc4a-d537-416e-be55-32690a41519f",
   "metadata": {},
   "outputs": [],
   "source": [
    "lp = [1, 2, 3, 5.6, .8, 'Sudhanshu', 'Raj', 'Kapil', 'Lovkush', 0.5, 9.7]"
   ]
  },
  {
   "cell_type": "code",
   "execution_count": 17,
   "id": "584c3a94-d393-4f6e-9311-54c1c048194a",
   "metadata": {},
   "outputs": [],
   "source": [
    "lp_num = []\n",
    "lp_str = []\n",
    "\n",
    "for i in lp:\n",
    "    if type(i) == int or type(i) == float:\n",
    "        lp_num.append(i)\n",
    "    else:\n",
    "        lp_str.append(i)"
   ]
  },
  {
   "cell_type": "code",
   "execution_count": 18,
   "id": "066720a1-a77a-4c87-9e97-607228b3226a",
   "metadata": {},
   "outputs": [
    {
     "name": "stdout",
     "output_type": "stream",
     "text": [
      "[1, 2, 3, 5.6, 0.8, 0.5, 9.7]\n"
     ]
    }
   ],
   "source": [
    "print(lp_num)"
   ]
  },
  {
   "cell_type": "code",
   "execution_count": 19,
   "id": "f516d882-c723-42e4-a0c6-2c98baf5ce5c",
   "metadata": {},
   "outputs": [
    {
     "name": "stdout",
     "output_type": "stream",
     "text": [
      "['Sudhanshu', 'Raj', 'Kapil', 'Lovkush']\n"
     ]
    }
   ],
   "source": [
    "print(lp_str)"
   ]
  },
  {
   "cell_type": "code",
   "execution_count": null,
   "id": "b0a3b0ae-dcc0-4275-a649-e5f550ffdf18",
   "metadata": {},
   "outputs": [],
   "source": []
  }
 ],
 "metadata": {
  "kernelspec": {
   "display_name": "Python 3 (ipykernel)",
   "language": "python",
   "name": "python3"
  },
  "language_info": {
   "codemirror_mode": {
    "name": "ipython",
    "version": 3
   },
   "file_extension": ".py",
   "mimetype": "text/x-python",
   "name": "python",
   "nbconvert_exporter": "python",
   "pygments_lexer": "ipython3",
   "version": "3.10.6"
  },
  "toc-autonumbering": true,
  "toc-showcode": true,
  "toc-showtags": true
 },
 "nbformat": 4,
 "nbformat_minor": 5
}
